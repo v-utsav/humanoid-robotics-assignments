{
 "cells": [
  {
   "cell_type": "markdown",
   "id": "5d0a7611",
   "metadata": {},
   "source": [
    "# Assignment 1\n",
    "In the following tasks of this exercise sheet we consider two humanoid robots, **H1** and **H2**, working in a household environment. H1 is equipped with a time-of-flight camera **C1** with a resolution of **640x480** pixels. In comparison, H2 uses a **1920x1080** pixel stereo camera **C2** to perceive the world.  Both cameras are mounted on the heads of the humanoids and are intrinsically and extrinsically calibrated."
   ]
  },
  {
   "cell_type": "markdown",
   "id": "78be2020",
   "metadata": {},
   "source": [
    "1. **Homogenous Coordinates**\n",
    "   a. Explain why Homogenous coordinates are beneficial compared to using  separate Euclidean rotation and translation matrices.\n",
    "\n",
    "      ***Answer here in plain text***\n",
    "\n",
    "   b. Discuss the specific implications this has for simplifying the process of chaining multiple transformations and inverting them, which are common requirements in robotic perception and control.\n",
    "   \n",
    "     ***Answer here in plain text***"
   ]
  },
  {
   "cell_type": "markdown",
   "id": "ce5a16cc",
   "metadata": {},
   "source": [
    "2. **Calibration**\n",
    "   a. In order to extend its application range, we decided to use H1 outdoors as well. However, due to the higher complexity of this domain, it was decided to replace its current camera with C2 in order to benefit from its higher camera resolution. Therefore, the two cameras need to be swapped. What kind of calibration should be done? **Justify your answer**.\n",
    "   \n",
    "   ***Answer here in plain text***\n",
    "\n",
    "   b. As H1 was walking outside, he accidentally hit his head on a high hanging pole and the camera got dislodged. Fortunately, C2 suffered no external damage and was put back in place. What kind of calibration should be done in this case? **Justify your answer**.\n",
    "   \n",
    "   ***Answer here in plain text***\n"
   ]
  },
  {
   "cell_type": "markdown",
   "id": "assignment-intro",
   "metadata": {},
   "source": [
    "3. **Pinhole Projection**\n",
    "\n",
    "a.\tWrite a function to derive the intrinsic matrix given the camera constant, principal point and pixel scaling factors.  **Print the resulting matrix**.\n",
    "\n",
    "b.\tImplement a function that takes as input 3D points in Euclidean coordinates, converts them to Homogenous coordinates and outputs their corresponding 2D image coordinates. **Visualize the 2D image coordinates on a scatter plot.**"
   ]
  },
  {
   "cell_type": "code",
   "execution_count": 26,
   "id": "code-ex1",
   "metadata": {},
   "outputs": [
    {
     "name": "stdout",
     "output_type": "stream",
     "text": [
      "[[800.   0. 320.]\n",
      " [  0. 800. 240.]\n",
      " [  0.   0.   1.]]\n",
      "[[320. 240.]\n",
      " [480. 400.]\n",
      " [160. 400.]\n",
      " [480.  80.]\n",
      " [160.  80.]]\n"
     ]
    },
    {
     "data": {
      "image/png": "[encoded data removed]",
      "text/plain": [
       "<Figure size 800x600 with 1 Axes>"
      ]
     },
     "metadata": {},
     "output_type": "display_data"
    }
   ],
   "source": [
    "import numpy as np\n",
    "import matplotlib.pyplot as plt\n",
    "\n",
    "def build_intrinsic_matrix(f, s_x, s_y, c_x, c_y):\n",
    "    \"\"\"\n",
    "    Construct the intrinsic matrix K for the pinhole camera model.\n",
    "    \n",
    "    :return: 3x3 intrinsic matrix K\n",
    "    \"\"\"\n",
    "    # TODO: Implement the intrinsic matrix\n",
    "    K = np.array([[f/s_x, 0, c_x], \n",
    "                  [0, f/s_y, c_y], \n",
    "                  [0, 0, 1]])\n",
    "    return K\n",
    "    #pass\n",
    "\n",
    "def project_points(points_3d, K):\n",
    "    \"\"\"\n",
    "    Projects 3D points in the camera frame (in homogeneous coordinates) to 2D image coordinates using the intrinsic matrix K.\n",
    "    :param points_3d: points in Euclidean coordinates\n",
    "    :param K: intrinsic matrix\n",
    "    :return points_2d: projected 2D points\n",
    "    \"\"\"\n",
    "    # TODO: Implement the projection\n",
    "    #Convert 3D points to homogeneous coordinates or camera frame\n",
    "    homogeneous_3d_coordinates = np.hstack((points_3d, np.ones((points_3d.shape[0], 1))))\n",
    "    transpose_hom_3d_co = homogeneous_3d_coordinates.T\n",
    "    #Get 2d image coordinates using intrinsic matrix K\n",
    "    homogeneous_2d_image_coordinates = K @ transpose_hom_3d_co[:3, :]\n",
    "    euclidean_2d_image_coordinates = (homogeneous_2d_image_coordinates[:2, :] / homogeneous_2d_image_coordinates[2, :]).T\n",
    "    return euclidean_2d_image_coordinates\n",
    "    #pass\n",
    "\n",
    "# Example usage:\n",
    "# Define intrinsic parameters\n",
    "f = 800  \n",
    "c_x, c_y = 320, 240\n",
    "s_x = s_y = 1\n",
    "\n",
    "# 3D points (in homogeneous coordinates)\n",
    "# Format: [x, y, z]\n",
    "points = np.array([\n",
    "    [0, 0, 5],\n",
    "    [1, 1, 5],\n",
    "    [-1, 1, 5],\n",
    "    [1, -1, 5],\n",
    "    [-1, -1, 5]\n",
    "])\n",
    "\n",
    "    \n",
    "# Print the K matrix \n",
    "K = build_intrinsic_matrix(f, s_x, s_y, c_x, c_y)\n",
    "print(K)\n",
    "# Print the 2D image coordinates\n",
    "image_2d_coordinates = project_points(points, K)\n",
    "print(image_2d_coordinates)\n",
    "\n",
    "#Visualization\n",
    "plt.figure(figsize=(8, 6))\n",
    "plt.scatter(image_2d_coordinates[:, 0], image_2d_coordinates[:, 1])\n",
    "plt.xlabel(\"u (pixel coordinate)\")\n",
    "plt.ylabel(\"v (pixel coordinate)\")\n",
    "plt.title(\"Projected 2D Image Coordinates\")\n",
    "plt.grid(True)\n",
    "plt.gca().invert_yaxis()  # y-axis points downwards in image coordinate systems\n",
    "plt.show()"
   ]
  },
  {
   "cell_type": "markdown",
   "id": "05e216bd",
   "metadata": {},
   "source": [
    "4.\t**Intrinsic Parameter Estimation Using World-to-Camera Transformations**\n",
    "Suppose H1 is positioned so that its torso is positioned at (2, 3, 1) in the world coordinate system, with the torso's axes aligned with the world axes. Unfortunately, C2 has to be replaced by another camera that can provide better depth estimates. We assume that the transformation between the torso frame and the camera frame is known due to the fixed location of the 3D printed camera mount. In particular, the camera is mounted 1 meter above the torso. In the torso frame, the camera's position is (0, 0, 1), and its coordinate system is rotated relative to the torso frame so that the camera's x-axis remains aligned with the torso's x-axis, the camera's y-axis points downward (opposite the torso's z-axis), and the camera's z-axis (pointing forward) is parallel to the torso's y-axis (i.e., horizontal with respect to the ground).\n",
    "\n",
    "a. Plot a visualization of the three coordinate systems (world, torso, camera) at the current locations\n",
    "\n",
    "b. Write a function to transform 3D points provided in the world coordinate system into the camera frame using homogeneous coordinates. Transform the points provided in 4b_3d_world_points.csv to camera coordinates and print them\n",
    "\n",
    "Assume that the 3D points in the world frame are projected onto the image plane via a pinhole camera model using the intrinsic matrix given in the slides. The corresponding projected points have been estimated using a calibration procedure. Assume that there is no scale difference in x and y. Estimate the intrinsic parameters under the following conditions:\n",
    "\n",
    "c. The 2D projections are noiseless. Use the csv files 4c_3d_noiseless_world_points.csv and 4c_noiseless_image_coordinates.csv\n",
    "\n",
    "d. The 2D projections contain noise, and the number of correspondences exceeds the number of unknown parameters. Use the csv files 4c_3d_noisy_world_points.csv and 4d_noisy_image_coordinates.csv\n"
   ]
  },
  {
   "cell_type": "code",
   "execution_count": null,
   "id": "131b6fb5",
   "metadata": {},
   "outputs": [],
   "source": [
    "import numpy as np\n",
    "import matplotlib.pyplot as plt\n",
    "import csv"
   ]
  },
  {
   "cell_type": "code",
   "execution_count": null,
   "id": "7efe4f50693edb22",
   "metadata": {},
   "outputs": [],
   "source": [
    "# load the dataset here"
   ]
  },
  {
   "cell_type": "code",
   "execution_count": null,
   "id": "95dc9b96",
   "metadata": {},
   "outputs": [],
   "source": [
    "# 4.a \n",
    "def get_torso2world_transform():\n",
    "    # return the torso coordinate frame in world coordinates using Homogenous transforms: \n",
    "    pass\n",
    "\n",
    "def get_camera2torso_transform():\n",
    "    # return the camera coordinate frame in torso coordinates using Homogenous transforms: \n",
    "    pass\n",
    "\n",
    "def get_camera2world_transform():\n",
    "    # using above two functions return camera coordinate frame in world coordinates\n",
    "    pass\n",
    "\n",
    "def plot_coordinate_frames():\n",
    "    # plot the three coordinate frames with x shown in red, y shown in green and z in blue. The frame should form a right-handed coordinate system\n",
    "    pass\n"
   ]
  },
  {
   "cell_type": "code",
   "execution_count": null,
   "id": "7f9f6b04",
   "metadata": {},
   "outputs": [],
   "source": [
    "# 4.b \n",
    "def transform_3d_points_world_to_3d_points_cam(points_3d_world):\n",
    "    # Use the transforms from 4.a to convert the 3d points in the world coordinate system to camera coordinate system\n",
    "    pass"
   ]
  },
  {
   "cell_type": "code",
   "execution_count": null,
   "id": "fa6d92d5",
   "metadata": {},
   "outputs": [],
   "source": [
    "# 4.c \n",
    "def estimate_intrinsic_matrix_noiseless():\n",
    "    # Read the  4c_3d_noiseless_world_points.csv and 4c_noiseless_image_coordinates.csv. Use 4.a and 4.b to transform to camera coordinates and then estimate the intrinsic calibration matrix using correspondence between 3D camera points and 2D image coordinates\n",
    "    pass"
   ]
  },
  {
   "cell_type": "code",
   "execution_count": null,
   "id": "6c10d9df",
   "metadata": {},
   "outputs": [],
   "source": [
    "# 4.d \n",
    "def estimate_intrinsic_matrix_noiseless():\n",
    "    # Read the  4d_3d_noisy_world_points.csv and 4d_noisy_image_coordinates.csv. Use 4.a and 4.b to transform to camera coordinates and then estimate the intrinsic calibration matrix using correspondence between 3D camera points and 2D image coordinates\n",
    "    pass"
   ]
  }
 ],
 "metadata": {
  "kernelspec": {
   "display_name": "Python 3 (ipykernel)",
   "language": "python",
   "name": "python3"
  },
  "language_info": {
   "codemirror_mode": {
    "name": "ipython",
    "version": 3
   },
   "file_extension": ".py",
   "mimetype": "text/x-python",
   "name": "python",
   "nbconvert_exporter": "python",
   "pygments_lexer": "ipython3",
   "version": "3.12.3"
  }
 },
 "nbformat": 4,
 "nbformat_minor": 5
}
