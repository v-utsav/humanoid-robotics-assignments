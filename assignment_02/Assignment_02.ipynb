{
 "cells": [
  {
   "cell_type": "markdown",
   "id": "1765d7d2",
   "metadata": {},
   "source": [
    "# Assignment 02 for 3D World Representations\n",
    "\n",
    "In this assignment you will complete two programming tasks and answer 1 written question. You are expected to use Python along with libraries such as **NumPy**, **SciPy**, **Matplotlib**, and **Open3D** (for 3D visualization). Please ensure your code is well-commented and modular.\n"
   ]
  },
  {
   "cell_type": "markdown",
   "id": "f2bf75d3",
   "metadata": {},
   "source": [
    "\n",
    "## 1 Task Based Mapping Methods\n",
    "Roboticists at the University of Bonn are developing several robots for different applications: \n",
    "\n",
    "- **UBoButler**: A humanoid robot tasked with sorting objects on a kitchen counter. The robot must identify and manipulate items like 'cups', 'plates', and 'utensils' and place them in designated locations. It does not wander out of the kitchen.\n",
    "\n",
    "- **UBoWanderDog**: UBoWanderDog: UBoWanderDog is a quadruped navigating a hilly terrain with obstacles such as 'rocks', 'trees', and 'bushes'. The robot's primary task is to explore the area and map potential paths.\n",
    "\n",
    "- **UBoAssist**: UBoAssist is a humanoid assisting elderly and visually challenged people in navigation in dense urban areas with pedestrians, cyclists, other vehicles, traffic lights, and crosswalks.\n",
    "\n",
    "These robots rely on accurate 3D perception to function effectively. Their perception systems process visual data to create 3D maps of their environments. The team is focused on using pixel-level classification from deep learning models to label elements in the scene. To understand the challenges involved, consider the following computational cost considerations:\n",
    "\n",
    "- **Panoptic Segmentation**: Highest computational cost.\n",
    "\n",
    "- **Semantic Segmentation**: Provides pixel-level classification of object categories\n",
    "\n",
    "- **Instance Segmentation**: Similar to Semantic Segmentation but requires additional computation for tracking individual instances.\n",
    "\n",
    "Determine the most suitable scene understanding approach for mapping (Semantic Segmentation, Instance Segmentation, or Panoptic Segmentation) for each of the three scenarios (Kitchen, Hilly Terrain, and Downtown Area). Justify your choice for each scenario. \n",
    "\n",
    "---\n",
    "\n",
    "#### **UBoButler (Kitchen Scenario)**\n",
    "**Approach:** Instance Segmentation\n",
    "\n",
    "**Justification:**\n",
    "In the kitchen, UBoButler needs to interact with specific individual objects like cups, plates, and utensils. Semantic segmentation alone would only label pixels as \"cup\" or \"plate\" without distinguishing between multiple cups or plates, which is insufficient for manipulation tasks. **Instance segmentation** allows the robot to differentiate between individual items, which is crucial for picking and placing actions. Panoptic segmentation would also work but is unnecessarily computationally expensive for a contained environment like a kitchen where there are relatively few objects and low complexity.\n",
    "\n",
    "---\n",
    "\n",
    "#### **UBoWanderDog (Hilly Terrain Scenario)**\n",
    "**Approach:** Semantic Segmentation\n",
    "\n",
    "**Justification:**\n",
    "For exploration and navigation in a natural outdoor environment, the goal is to understand general categories of terrain elements like \"rock\", \"tree\", and \"bush\" to plan safe paths. There's no need to distinguish between individual rocks or trees. **Semantic segmentation** provides sufficient information while being computationally lighter than instance or panoptic segmentation, which is important for real-time operation in resource-constrained or field-deployed robots.\n",
    "\n",
    "---\n",
    "\n",
    "#### **UBoAssist (Urban Scenario)**\n",
    "**Approach:** Panoptic Segmentation\n",
    "\n",
    "**Justification:**\n",
    "In a dense urban environment, UBoAssist must understand both **what** is in the scene (e.g., traffic lights, pedestrians, cyclists) and **who is who** (e.g., tracking multiple people or vehicles). **Panoptic segmentation**, which combines both semantic and instance segmentation, is ideal here. It allows the robot to perform pixel-level classification while also keeping track of individual dynamic elements, essential for safe and intelligent navigation. Despite its high computational cost, it is justified due to the high complexity and safety-critical nature of the task."
   ]
  },
  {
   "cell_type": "markdown",
   "id": "dd679395",
   "metadata": {},
   "source": [
    "## 2 Semantic Point Cloud Creation and Stitching            \n",
    "\n",
    "In this task you are provided with a set of depth images, semantic segmentation masks, camera poses, and intrinsics. Your goal is to generate and visualize a colored 3D point cloud. Each depth image should be converted to a local point cloud, colored using the semantic mask and a provided CSV file that maps 41 semantic classes (including background) to RGB colors, and then transformed into world coordinates using the camera pose. Finally, the per-image point clouds should be stitched together and visualized as one global colored point cloud.\n",
    "\n",
    "- a. Convert each depth image into a 3D point cloud using the camera intrinsics. \n",
    "\n",
    "- b. Modify above function to color the point cloud. For each depth, use the corresponding semantic segmentation mask and the provided CSV file mapping semantic classes to colors, to assign an RGB color to each point. Use nearest point interpolation for aligning depth image with segmentation image. Assume segmentation image has same instrinsics as color image. Assume the optical centers for RGB and depth images are co-incident. \n",
    "\n",
    "- c. Then, transform the colored local point cloud into world coordinates using the provided camera pose.\n",
    "\n",
    "- d. Stitch the transformed point clouds from all images into a single global point cloud and visualize it using a 3D visualization tool such as Open3D. \n",
    "- e. Explain in text the trade-off between occupancy and TSDF maps on one hand and different grid sizes on the other based on the visualizations generated\n",
    "\n",
    "### Note:\n",
    "- Use appropriate libraries (e.g., Open3D) for point cloud creation and visualization.\n",
    "- Make sure to apply the correct transformations using camera poses and intrinsics.\n"
   ]
  },
  {
   "cell_type": "code",
   "execution_count": 101,
   "id": "72785310",
   "metadata": {},
   "outputs": [],
   "source": [
    "import numpy as np\n",
    "import matplotlib\n",
    "import open3d as o3d\n",
    "\n",
    "import os\n",
    "import pandas as pd"
   ]
  },
  {
   "cell_type": "code",
   "execution_count": 102,
   "id": "7517b79b",
   "metadata": {},
   "outputs": [],
   "source": [
    "def load_data():\n",
    "    ## Load all the depth images, semantic mask images, camera poses, intrinsics and csv for mapping semantic classes to colors\n",
    "    color_imgs = []\n",
    "    depth_imgs = []\n",
    "    label_imgs = []\n",
    "    pose_matrices = []\n",
    "    class_map = {}\n",
    "    intrinsic_color = []\n",
    "    intrinsic_depth = []\n",
    "    \n",
    "    path = '../assignment_02/task_2/'\n",
    "\n",
    "    for img in sorted(os.listdir(path + 'color/')):\n",
    "        color_imgs.append(matplotlib.image.imread(path + 'color/' + img))\n",
    "\n",
    "    for img in sorted(os.listdir(path + 'depth/')):\n",
    "        depth_imgs.append(matplotlib.image.imread(path + 'depth/' + img))\n",
    "\n",
    "    for img in sorted(os.listdir(path + 'label/')):\n",
    "        label_imgs.append(matplotlib.image.imread(path + 'label/' + img))\n",
    "\n",
    "    for txt in sorted(os.listdir(path + 'pose/')):\n",
    "        with open(path + 'pose/' + txt, 'r') as file:\n",
    "            matrix = [line.strip().split() for line in file]\n",
    "            matrix = np.array(matrix, float)\n",
    "        pose_matrices.append(matrix)\n",
    "\n",
    "    class_map = pd.read_csv('../assignment_02/task_2/class_rgb_map.csv').to_dict()\n",
    "\n",
    "    with open(path + 'intrinsics_color.txt', 'r') as file:\n",
    "        intrinsic_color = [line.strip().split() for line in file]\n",
    "        intrinsic_color = np.array(intrinsic_color, float)\n",
    "\n",
    "    with open(path + 'intrinsics_depth.txt', 'r') as file:\n",
    "        intrinsic_depth = [line.strip().split() for line in file]\n",
    "        intrinsic_depth = np.array(intrinsic_depth, float)\n",
    "        \n",
    "    return color_imgs, depth_imgs, label_imgs, pose_matrices, class_map, intrinsic_color, intrinsic_depth"
   ]
  },
  {
   "cell_type": "markdown",
   "id": "97d5d466",
   "metadata": {},
   "source": [
    "# a."
   ]
  },
  {
   "cell_type": "code",
   "execution_count": 103,
   "id": "987dcae8",
   "metadata": {},
   "outputs": [],
   "source": [
    "def convert_depth_to_pointcloud(depth, depth_intrinsics):\n",
    "    # getting the data of the depth image and intrinsics\n",
    "    h, w = depth.shape\n",
    "    fx = depth_intrinsics[0][0]\n",
    "    fy = depth_intrinsics[1][1]\n",
    "    cx = depth_intrinsics[0][2]\n",
    "    cy = depth_intrinsics[1][2]\n",
    "\n",
    "    point_cloud = []\n",
    "\n",
    "    # going through the image depth \n",
    "    for u in range(w):\n",
    "        for v in range(h):\n",
    "            # checking the depth value, if its non zero, make the pointcloud using intrinsics\n",
    "            z = depth[v][u]\n",
    "            if z > 0:\n",
    "                x = z*(u - cx)/fx\n",
    "                y = z*(v - cy)/fy\n",
    "                point_cloud.append([x, y, z])\n",
    "\n",
    "    return np.array(point_cloud)"
   ]
  },
  {
   "cell_type": "markdown",
   "id": "786188cb",
   "metadata": {},
   "source": [
    "# b."
   ]
  },
  {
   "cell_type": "code",
   "execution_count": 104,
   "id": "813369ae",
   "metadata": {},
   "outputs": [],
   "source": [
    "def convert_depth_semantics_to_colored_pointcloud(depth, semantics, depth_intrinsics, color_intrinsics, class_map):\n",
    "    fx_s = color_intrinsics[0][0]\n",
    "    fy_s = color_intrinsics[1][1]\n",
    "    cx_s = color_intrinsics[0][2]\n",
    "    cy_s = color_intrinsics[1][2]\n",
    "\n",
    "    point_cloud = convert_depth_to_pointcloud(depth, depth_intrinsics)\n",
    "    point_cloud_rgb = []\n",
    "\n",
    "    # for each point in the pointcloud, find the nearest point in the semantics using the color intrinsics\n",
    "    for point in point_cloud:\n",
    "        u_rgb = int(point[0]*fx_s/point[2] + cx_s)\n",
    "        v_rgb = int(point[1]*fy_s/point[2] + cy_s)\n",
    "\n",
    "        # get the rgb color the point is within the semantics image\n",
    "        label = int(semantics[v_rgb][u_rgb] * 255)\n",
    "        # create pointcloud in XYZRGB\n",
    "        point_cloud_rgb.append([point[0], point[1], point[2], class_map['r'][label], class_map['g'][label], class_map['b'][label]])\n",
    "\n",
    "    return np.array(point_cloud_rgb)"
   ]
  },
  {
   "cell_type": "markdown",
   "id": "2ea97d58",
   "metadata": {},
   "source": [
    "# c."
   ]
  },
  {
   "cell_type": "code",
   "execution_count": 105,
   "id": "548771f3",
   "metadata": {},
   "outputs": [],
   "source": [
    "def transform_pointcloud_to_worldframe(pointcloud, pose):\n",
    "    # make the pointcloud (just XYZ, no RGB) homogenous\n",
    "    pointcloud_h = np.hstack((pointcloud[:, :3], np.ones((pointcloud[:, :3].shape[0], 1))))\n",
    "    # multiply by the pose of the camera\n",
    "    points_worldframe_h = (pose @ pointcloud_h.T)\n",
    "    # transform back from homogenous and transpose\n",
    "    points_worldframe = (points_worldframe_h[:3, :] / points_worldframe_h[3, :]).T\n",
    "    # append the RGB colors again to the transformed points\n",
    "    points_worldframe = np.hstack((points_worldframe, pointcloud[:, 3:]))\n",
    "    return points_worldframe"
   ]
  },
  {
   "cell_type": "markdown",
   "id": "96169916",
   "metadata": {},
   "source": [
    "# d."
   ]
  },
  {
   "cell_type": "code",
   "execution_count": 106,
   "id": "4d14ef3d",
   "metadata": {},
   "outputs": [],
   "source": [
    "def stitch_pointcloud(clouds):\n",
    "    # all pointclouds in the same array and then as a Nx6 vector (XYZRGB)\n",
    "    stitched = []\n",
    "    for cloud in clouds:\n",
    "        stitched.append(cloud)\n",
    "    \n",
    "    stitched = np.vstack(stitched)\n",
    "    return stitched\n"
   ]
  },
  {
   "cell_type": "code",
   "execution_count": 107,
   "id": "11ba3016",
   "metadata": {},
   "outputs": [],
   "source": [
    "def visualize(stitched_cloud):\n",
    "    # create the pointcloud object\n",
    "    pcd = o3d.geometry.PointCloud()\n",
    "    # add points (XYZ) to the point cloud\n",
    "    pcd.points = o3d.utility.Vector3dVector(stitched_cloud[:, :3])\n",
    "    # add the mapped colors to the points\n",
    "    pcd.colors = o3d.utility.Vector3dVector(stitched_cloud[:, 3:6])\n",
    "    # show the pointcloud on screen\n",
    "    o3d.visualization.draw_geometries([pcd])"
   ]
  },
  {
   "cell_type": "code",
   "execution_count": 108,
   "id": "3286728b",
   "metadata": {},
   "outputs": [],
   "source": [
    "# load all data\n",
    "imgs_c, imgs_d, labels, poses, classes, color_int, depth_int = load_data()\n",
    "points = []\n",
    "# iterate over all images\n",
    "for i in range(len(imgs_c)):\n",
    "    # convert the depth images into colored pointcloud\n",
    "    cloud = convert_depth_semantics_to_colored_pointcloud(imgs_d[i], labels[i], depth_int, color_int, classes)\n",
    "    # transform pointcloud into worldframe\n",
    "    # ---------------------------------------------------------------------------------------------------\n",
    "    # (needs checking into it, commenting it makes more \"sense\" as everything stays around the same area)\n",
    "    cloud = transform_pointcloud_to_worldframe(cloud, poses[i])\n",
    "    # ---------------------------------------------------------------------------------------------------\n",
    "    # add the points to then stitch them together as a one XYZRGB vector\n",
    "    points.append(cloud)\n",
    "stitched = stitch_pointcloud(points)\n",
    "# visualize the result\n",
    "visualize(stitched)"
   ]
  },
  {
   "cell_type": "markdown",
   "id": "8120c6eb",
   "metadata": {},
   "source": [
    "## 3. 2D TSDF Grid Generation, Weighted Update and Occupancy Computation ##\n",
    "\n",
    "In this task you are provided with a defined parabola given by the equation $y=4x^2$, that represents a curved surface in the first quadrant. The scene is defined over a 1m × 1m area with a  user-defined grid cell size i.e. your method should be general to the size. You are also provided with multiple camera poses that indicate the camera’s position and orientation in the scene. Your goal is to generate a 2D Truncated Signed Distance Function (TSDF) grid by performing raycasting from the camera pose(s) into the scene. The TSDF should be computed as follows: along each ray cast from the camera, determine the intersection with the surface defined by $y=4x^2$ (the measured surface).  For a given grid cell along that ray:\n",
    "\n",
    "- If the cell lies between the camera and the measured surface, assign a positive TSDF value.\n",
    "\n",
    "- If the cell is beyond the measured surface, assign a negative TSDF. \n",
    "\n",
    "- Use TSDF updating principles in the lecture including weight drop-off beyond -0.1m. \n",
    "\n",
    "You can refer to state-of-the-art TSDF weight and distance calculation and update methods in the repository https://github.com/ethz-asl/voxblox. \n",
    "\n",
    "- a.\tGenerate the grid covering the 1m × 1m domain with user defined resolution (Use 0.1m for initial testing). Initialize a maps with two values for the grid: TSDF distance and the weight. Also perform suitable initialization of the weights and distances.     \n",
    "\n",
    "- b.\tUsing the provided camera pose(s), perform raycasting into the scene. You are given the helper function get_intersection_point(). Compute the TSDF value based on the distance from the cell to the measured surface along that ray using the following convention: cells between the camera and the surface have positive TSDF values, and cells beyond the surface have negative TSDF values. Update the cell’s weight only if its absolute TSDF value is within 0.1m. Document your raycasting method and detail how you use the get_intersection_point() function to determine the surface intersection.\n",
    "                                                                                            \t\t\n",
    "- c.\tOnce the TSDF weights and distances are updated for all poses, generate an occupancy map from the two maps.  \n",
    "\t\t\n",
    "- d.\tVisualize the TSDF distance, weights and the occupancy maps for two different gride cell sizes 0.1m and 0.01m.  \n",
    "\t\t\n",
    "- e.\tExplain in text the trade-off between occupancy and TSDF maps on one hand and different grid sizes on the other based on the visualizations generated \n",
    "\n",
    "**Note**: You can add helper functions to make the solution modular. However the functions given below must be completed. You can call your helper functions within it. \n",
    "\t\t\n"
   ]
  },
  {
   "cell_type": "code",
   "execution_count": 3,
   "id": "80f5abdc",
   "metadata": {},
   "outputs": [],
   "source": [
    "import numpy as np\n",
    "import matplotlib.pyplot as plt\n",
    "\n",
    "##############################\n",
    "# Configuration and Constants\n",
    "##############################\n",
    "\n",
    "config = {\n",
    "    'use_weight_dropoff': True,\n",
    "    'default_truncation_distance': 0.1,  # meters\n",
    "    'max_weight': 100.0,\n",
    "    'use_const_weight': False\n",
    "}\n",
    "\n",
    "kFloatEpsilon = 1e-6\n",
    "\n",
    "def get_intersection_point(pose, noise_factor=0.001):\n",
    "    \"\"\"\n",
    "    Compute the intersection point of the sensor ray with the parabola defined by:\n",
    "         y = 4x^2\n",
    "    The sensor ray is given by: (x, y) + t*(cos(theta), sin(theta)).\n",
    "    We solve for t from:\n",
    "         y_cam + t*sin(theta) = 4*(x_cam + t*cos(theta))^2\n",
    "    and add noise proportional to t. The measured distance is returned as negative,\n",
    "    but the intersection point is computed using its absolute value.\n",
    "    \"\"\"\n",
    "    x_cam, y_cam, theta = pose\n",
    "\n",
    "    # Coefficients for the quadratic:\n",
    "    # 4*cos(theta)^2 * t^2 + (8*x_cam*cos(theta) - sin(theta)) * t + (4*x_cam^2 - y_cam) = 0\n",
    "    A = 4 * (np.cos(theta)**2)\n",
    "    B = 8 * x_cam * np.cos(theta) - np.sin(theta)\n",
    "    C = 4 * (x_cam**2) - y_cam\n",
    "\n",
    "    discriminant = B**2 - 4 * A * C\n",
    "    if discriminant < 0:\n",
    "        t_true = 0\n",
    "    else:\n",
    "        t1 = (-B + np.sqrt(discriminant)) / (2 * A)\n",
    "        t2 = (-B - np.sqrt(discriminant)) / (2 * A)\n",
    "        candidates = [t for t in [t1, t2] if t > 0]\n",
    "        t_true = min(candidates) if candidates else 0\n",
    "\n",
    "    noise = np.random.randn() * noise_factor * t_true\n",
    "    t_meas = -(t_true + noise)  # negative measured distance\n",
    "\n",
    "    ray_direction = np.array([np.cos(theta), np.sin(theta)])\n",
    "    # Compute intersection point using absolute measured distance\n",
    "    point_G = np.array([x_cam, y_cam]) + (-t_meas) * ray_direction\n",
    "    return point_G"
   ]
  },
  {
   "cell_type": "code",
   "execution_count": 4,
   "id": "f0531e4d",
   "metadata": {},
   "outputs": [
    {
     "name": "stdout",
     "output_type": "stream",
     "text": [
      "           x         y     theta\n",
      "0   0.735350  2.160618  2.973128\n",
      "1   0.093559  0.034200  2.211320\n",
      "2   0.827908  2.728618  2.991395\n",
      "3   0.635773  1.611480  2.947156\n",
      "4   0.668193  1.776228  2.956183\n",
      "5   0.651256  1.690431  2.951640\n",
      "6   0.209088  0.170999  2.599150\n",
      "7   0.382406  0.584012  2.825452\n",
      "8   0.150812  0.090192  2.448251\n",
      "9   0.875206  3.057137  2.999576\n",
      "10  0.100808  0.038360  2.244044\n",
      "11  0.139088  0.075527  2.406185\n",
      "12  0.120573  0.057291  2.336388\n",
      "13  0.226171  0.203553  2.635853\n",
      "14  0.260828  0.267612  2.692042\n",
      "15  0.829468  2.738679  2.991667\n",
      "16  0.826769  2.724312  2.991277\n",
      "17  0.378798  0.568473  2.821565\n",
      "18  0.267523  0.285569  2.704099\n",
      "19  0.910417  3.310316  3.005044\n"
     ]
    }
   ],
   "source": [
    "def load_camera_poses_from_csv_file(csv_file):\n",
    "    import pandas as pd\n",
    "    return pd.read_csv(csv_file)\n",
    "    #pass\n",
    "camera_poses = load_camera_poses_from_csv_file(f'cameraposes.csv')\n",
    "print(camera_poses)"
   ]
  },
  {
   "cell_type": "code",
   "execution_count": 5,
   "id": "c0761f46",
   "metadata": {},
   "outputs": [
    {
     "name": "stdout",
     "output_type": "stream",
     "text": [
      "[[0.1 0.1 0.1 0.1 0.1 0.1 0.1 0.1 0.1 0.1]\n",
      " [0.1 0.1 0.1 0.1 0.1 0.1 0.1 0.1 0.1 0.1]\n",
      " [0.1 0.1 0.1 0.1 0.1 0.1 0.1 0.1 0.1 0.1]\n",
      " [0.1 0.1 0.1 0.1 0.1 0.1 0.1 0.1 0.1 0.1]\n",
      " [0.1 0.1 0.1 0.1 0.1 0.1 0.1 0.1 0.1 0.1]\n",
      " [0.1 0.1 0.1 0.1 0.1 0.1 0.1 0.1 0.1 0.1]\n",
      " [0.1 0.1 0.1 0.1 0.1 0.1 0.1 0.1 0.1 0.1]\n",
      " [0.1 0.1 0.1 0.1 0.1 0.1 0.1 0.1 0.1 0.1]\n",
      " [0.1 0.1 0.1 0.1 0.1 0.1 0.1 0.1 0.1 0.1]\n",
      " [0.1 0.1 0.1 0.1 0.1 0.1 0.1 0.1 0.1 0.1]]\n",
      "[[0. 0. 0. 0. 0. 0. 0. 0. 0. 0.]\n",
      " [0. 0. 0. 0. 0. 0. 0. 0. 0. 0.]\n",
      " [0. 0. 0. 0. 0. 0. 0. 0. 0. 0.]\n",
      " [0. 0. 0. 0. 0. 0. 0. 0. 0. 0.]\n",
      " [0. 0. 0. 0. 0. 0. 0. 0. 0. 0.]\n",
      " [0. 0. 0. 0. 0. 0. 0. 0. 0. 0.]\n",
      " [0. 0. 0. 0. 0. 0. 0. 0. 0. 0.]\n",
      " [0. 0. 0. 0. 0. 0. 0. 0. 0. 0.]\n",
      " [0. 0. 0. 0. 0. 0. 0. 0. 0. 0.]\n",
      " [0. 0. 0. 0. 0. 0. 0. 0. 0. 0.]]\n"
     ]
    }
   ],
   "source": [
    "def initialize_tsdf_map(grid_size=1.0, cell_size=0.1, config=config):\n",
    "    # Initialize a tsdf map with 2 values each: weight and distance\n",
    "    num_cells = int(grid_size / cell_size)\n",
    "    tsdf_distances = np.full((num_cells, num_cells), config['default_truncation_distance']) # Initialize with max truncation distance\n",
    "    tsdf_weights = np.zeros((num_cells, num_cells)) # Initialize with zero weights\n",
    "    return tsdf_distances, tsdf_weights\n",
    "    \n",
    "tsdf_distances, tsdf_weights = initialize_tsdf_map()\n",
    "print(tsdf_distances)\n",
    "print(tsdf_weights)"
   ]
  },
  {
   "cell_type": "code",
   "execution_count": 6,
   "id": "4e698b06",
   "metadata": {},
   "outputs": [],
   "source": [
    "def update_tsdf_map(camera_pose, tsdf_distances, tsdf_weights, grid_size=1.0, cell_size=0.1, config=config):\n",
    "    # Update the tsdf map's weight and distances where applicable for the current camera pose\n",
    "    # Use the get_intersection_point() function in above cell to get the intersection point with the parabola which is the surface point\n",
    "    x_cam, y_cam, theta = camera_pose\n",
    "\n",
    "    truncation = config['default_truncation_distance']\n",
    "    max_weight = config['max_weight']\n",
    "\n",
    "    intersection_point = get_intersection_point(camera_pose)\n",
    "\n",
    "    direction = np.array([np.cos(theta), np.sin(theta)])\n",
    "    start_point = np.array([x_cam, y_cam])\n",
    "    end_point = intersection_point\n",
    "    ray = end_point - start_point\n",
    "    ray_length = np.linalg.norm(ray)\n",
    "\n",
    "    num_steps = max(int(ray_length / (cell_size / 2)), 1)\n",
    "\n",
    "    for i in range(num_steps):\n",
    "        t = i / num_steps\n",
    "        point = start_point + t * ray\n",
    "        x, y = point\n",
    "\n",
    "        if not (0 <= x < grid_size and 0 <= y < grid_size):\n",
    "            continue\n",
    "\n",
    "        ix = int(x / cell_size)\n",
    "        iy = int(y / cell_size)\n",
    "\n",
    "        cell_center = np.array([ix * cell_size + cell_size / 2,\n",
    "                                iy * cell_size + cell_size / 2])\n",
    "\n",
    "        signed_distance = np.dot(end_point - cell_center, direction)\n",
    "\n",
    "        if abs(signed_distance) > truncation:\n",
    "            continue\n",
    "\n",
    "        tsdf_value = np.clip(signed_distance / truncation, -1.0, 1.0)\n",
    "\n",
    "        # TSDF weighted update\n",
    "        w_old = tsdf_weights[iy, ix]\n",
    "        d_old = tsdf_distances[iy, ix]\n",
    "\n",
    "        w_new = w_old + 1\n",
    "        tsdf_updated = (w_old * d_old + tsdf_value) / w_new\n",
    "\n",
    "        tsdf_distances[iy, ix] = tsdf_updated\n",
    "        tsdf_weights[iy, ix] = min(w_new, max_weight)"
   ]
  },
  {
   "cell_type": "markdown",
   "id": "601749a9-c69e-4aba-b1cc-0a0e3f7868c3",
   "metadata": {},
   "source": [
    "Raycasting Method and Utilization of get_intersection_point() function\n",
    "\n",
    "Firstly, I extracted the camerapose from csv file and then used get_intersection_point() function to get the point on actual surface seen from this pose. Then computed the unit vector direction of ray using theta of camera pose and then computed the vector from camera to surface as well as its length.\n",
    "Then examined the ray along cells by breaking it into smaller parts. If the ray is outside the map then we skip it. Otherwise, we calculate the location of the point on the current cell as well as center of the cell. \n",
    "After this we get the vector from cell center to the surface. To get the signed distance from this cell center to the surface we  use inner product of this vector with direction vector of camera pose to the surface. Then we check if absolute value of this signed distance is less than truncation threshold or not. If it is then we normalize the distance with truncation threshold to keep tsdf value in the range of -1 to 1.\n",
    "Consequently, we do weighted average update of weight and distance of this particular cell."
   ]
  },
  {
   "cell_type": "code",
   "execution_count": 7,
   "id": "dca4e972",
   "metadata": {},
   "outputs": [
    {
     "name": "stdout",
     "output_type": "stream",
     "text": [
      "[[0.5 0.5 0.5 0.5 0.5 0.5 0.5 0.5 0.5 0.5]\n",
      " [0.5 0.5 0.5 0.5 0.5 0.5 0.5 0.5 0.5 0.5]\n",
      " [0.5 0.5 0.5 0.5 0.5 0.5 0.5 0.5 0.5 0.5]\n",
      " [0.5 0.5 0.5 0.5 0.5 0.5 0.5 0.5 0.5 0.5]\n",
      " [0.5 0.5 0.5 0.5 0.5 0.5 0.5 0.5 0.5 0.5]\n",
      " [0.5 0.5 0.5 0.5 0.5 0.5 0.5 0.5 0.5 0.5]\n",
      " [0.5 0.5 0.5 0.5 0.5 0.5 0.5 0.5 0.5 0.5]\n",
      " [0.5 0.5 0.5 0.5 0.5 0.5 0.5 0.5 0.5 0.5]\n",
      " [0.5 0.5 0.5 0.5 0.5 0.5 0.5 0.5 0.5 0.5]\n",
      " [0.5 0.5 0.5 0.5 0.5 0.5 0.5 0.5 0.5 0.5]]\n"
     ]
    }
   ],
   "source": [
    "def compute_occupancy_map(tsdf_distances, weight_threshold=0.01,  config=config):\n",
    "    # Compute occupancy map from the tsdf map's weights and distances. If weight < 0.01, assume occupancy is 0.5 i.e. unknown\n",
    "    occupancy_map = np.full_like(tsdf_distances, 0.5)  # Unknown by default\n",
    "    occupied_thresh = 0.05\n",
    "    trunc = config['default_truncation_distance']\n",
    "\n",
    "    known = tsdf_weights >= weight_threshold\n",
    "    occupied = known & (np.abs(tsdf_distances) <= occupied_thresh)\n",
    "    free = known & (np.abs(tsdf_distances) > trunc)\n",
    "\n",
    "    occupancy_map[occupied] = 1.0\n",
    "    occupancy_map[free] = 0.0\n",
    "\n",
    "    return occupancy_map\n",
    "occupancy_map = compute_occupancy_map(tsdf_distances)\n",
    "print(occupancy_map)"
   ]
  },
  {
   "cell_type": "code",
   "execution_count": 8,
   "id": "2e19d561",
   "metadata": {},
   "outputs": [],
   "source": [
    "def visualize_tsdf_weight(tsdf_weights):\n",
    "    plt.imshow(tsdf_weights, cmap='viridis')\n",
    "    plt.title('TSDF Weights')\n",
    "    plt.colorbar()\n",
    "    plt.show()"
   ]
  },
  {
   "cell_type": "code",
   "execution_count": 9,
   "id": "06f31055",
   "metadata": {},
   "outputs": [],
   "source": [
    "def visualize_tsdf_dist(tsdf_distances):\n",
    "    plt.imshow(tsdf_distances, cmap='coolwarm', vmin=-1, vmax=1)\n",
    "    plt.title('TSDF Distances')\n",
    "    plt.colorbar()\n",
    "    plt.show()"
   ]
  },
  {
   "cell_type": "code",
   "execution_count": 10,
   "id": "82a35217",
   "metadata": {},
   "outputs": [],
   "source": [
    "def visualize_occupancy_map(occupancy_map):\n",
    "    plt.imshow(occupancy_map, cmap='gray', vmin=0, vmax=1)\n",
    "    plt.title('Occupancy Map')\n",
    "    plt.colorbar()\n",
    "    plt.show()"
   ]
  },
  {
   "cell_type": "code",
   "execution_count": 11,
   "id": "96f4e187",
   "metadata": {},
   "outputs": [
    {
     "data": {
      "image/png": "[encoded data removed]",
      "text/plain": [
       "<Figure size 640x480 with 2 Axes>"
      ]
     },
     "metadata": {},
     "output_type": "display_data"
    },
    {
     "data": {
      "image/png": "[encoded data removed]",
      "text/plain": [
       "<Figure size 640x480 with 2 Axes>"
      ]
     },
     "metadata": {},
     "output_type": "display_data"
    },
    {
     "data": {
      "image/png": "[encoded data removed]",
      "text/plain": [
       "<Figure size 640x480 with 2 Axes>"
      ]
     },
     "metadata": {},
     "output_type": "display_data"
    },
    {
     "data": {
      "image/png": "[encoded data removed]",
      "text/plain": [
       "<Figure size 640x480 with 2 Axes>"
      ]
     },
     "metadata": {},
     "output_type": "display_data"
    },
    {
     "data": {
      "image/png": "[encoded data removed]",
      "text/plain": [
       "<Figure size 640x480 with 2 Axes>"
      ]
     },
     "metadata": {},
     "output_type": "display_data"
    },
    {
     "data": {
      "image/png": "[encoded data removed]",
      "text/plain": [
       "<Figure size 640x480 with 2 Axes>"
      ]
     },
     "metadata": {},
     "output_type": "display_data"
    }
   ],
   "source": [
    "if __name__ == '__main__':\n",
    "\n",
    "## Call all the funcs here\n",
    "    cell_size = 0.1\n",
    "    tsdf_distances, tsdf_weights = initialize_tsdf_map(cell_size=cell_size)\n",
    "\n",
    "    for _, row in camera_poses.iterrows():\n",
    "        pose = row[['x', 'y', 'theta']].values\n",
    "        #tsdf_dist_weight = update_tsdf_map(pose, tsdf_distances, tsdf_weights, cell_size=cell_size)\n",
    "        update_tsdf_map(pose, tsdf_distances, tsdf_weights, cell_size=cell_size)\n",
    "        #print(tsdf_distances)\n",
    "\n",
    "    occupancy_map = compute_occupancy_map(tsdf_distances, tsdf_weights)\n",
    "    visualize_tsdf_dist(tsdf_distances)\n",
    "    visualize_tsdf_weight(tsdf_weights)\n",
    "    visualize_occupancy_map(occupancy_map)\n",
    "\n",
    "    #Visualization for cell size 0.01\n",
    "    cell_size = 0.01\n",
    "    tsdf_distances, tsdf_weights = initialize_tsdf_map(cell_size=cell_size)\n",
    "\n",
    "    for _, row in camera_poses.iterrows():\n",
    "        pose = row[['x', 'y', 'theta']].values\n",
    "        #tsdf_dist_weight = update_tsdf_map(pose, tsdf_distances, tsdf_weights, cell_size=cell_size)\n",
    "        update_tsdf_map(pose, tsdf_distances, tsdf_weights, cell_size=cell_size)\n",
    "        #print(tsdf_distances)\n",
    "\n",
    "    occupancy_map = compute_occupancy_map(tsdf_distances, tsdf_weights)\n",
    "    visualize_tsdf_dist(tsdf_distances)\n",
    "    visualize_tsdf_weight(tsdf_weights)\n",
    "    visualize_occupancy_map(occupancy_map)"
   ]
  },
  {
   "cell_type": "markdown",
   "id": "e0e22bb2-b8eb-4ba0-9714-c81f0f09b60f",
   "metadata": {},
   "source": [
    "The trade-off between occupancy and TSDF maps for different grid sizes\n",
    "\n",
    "TSDF maps with higher cell size show fewer updated cells where ray passes through very few discrete cells, whereas in case of smaller cell size TSDF maps shows more cells on the rays as evident through TSDF weights visualizations.\n",
    "\n",
    "Similarly, Occupancy maps show same coverage pattern in both cases of different cell sizes, however, in case of smaller cell size the continuous change is more visual.\n",
    "\n",
    "Apart from that, we don't see any changes for TSDF distances on smaller cell size visualization because when we reduce the cell size with factor of 10 the number of grid cells increase drastically with the factor of 100 (inversely proportinal to the square of cell sizes). Therefore, we get small tsdf values near to 0 and eventually updated tsdf values stay same as the old ones."
   ]
  }
 ],
 "metadata": {
  "kernelspec": {
   "display_name": "Python 3 (ipykernel)",
   "language": "python",
   "name": "python3"
  },
  "language_info": {
   "codemirror_mode": {
    "name": "ipython",
    "version": 3
   },
   "file_extension": ".py",
   "mimetype": "text/x-python",
   "name": "python",
   "nbconvert_exporter": "python",
   "pygments_lexer": "ipython3",
   "version": "3.12.3"
  }
 },
 "nbformat": 4,
 "nbformat_minor": 5
}
